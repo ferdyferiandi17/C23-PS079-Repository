{
 "cells": [
  {
   "cell_type": "code",
   "execution_count": 2,
   "metadata": {},
   "outputs": [],
   "source": [
    "import os\n",
    "import tensorflow as tf\n",
    "import matplotlib.pyplot as plt\n",
    "import numpy as np\n",
    "import pandas as pd\n",
    "import random\n",
    "import shutil\n",
    "from PIL import Image \n",
    "from mpl_toolkits.mplot3d import Axes3D\n",
    "from sklearn.preprocessing import StandardScaler\n",
    "from tensorflow.keras.preprocessing.image import ImageDataGenerator\n",
    "from sklearn.model_selection import train_test_split\n",
    "from keras.utils import to_categorical\n",
    "from tensorflow.keras.models import Model\n",
    "from tensorflow.keras.layers import Dense, GlobalAveragePooling2D\n",
    "from keras.applications import MobileNet\n",
    "from keras.optimizers import Adam\n",
    "from tensorflow.keras.models import Sequential\n",
    "from sklearn.metrics import classification_report, confusion_matrix"
   ]
  },
  {
   "cell_type": "code",
   "execution_count": 3,
   "metadata": {},
   "outputs": [],
   "source": [
    "jpg_folder_path = 'F:\\ARIK\\Foto Arik\\Datasets_acne'\n",
    "file_names = os.listdir(jpg_folder_path)\n",
    "images = []\n",
    "for file_name in file_names:\n",
    "    file_path = os.path.join(jpg_folder_path, file_name)\n",
    "    if file_path.endswith('.jpg') or file_path.endswith('.jpeg'):  \n",
    "        img = Image.open(file_path)\n",
    "        images.append(img)\n"
   ]
  },
  {
   "cell_type": "code",
   "execution_count": 4,
   "metadata": {},
   "outputs": [],
   "source": [
    "images = []\n",
    "labels = []\n",
    "\n",
    "label_mapping = {\n",
    "    'Level_1': 1,\n",
    "    'Level_2': 2,\n",
    "    'Level_3': 3,\n",
    "    'Level_4': 4\n",
    "}\n",
    "for subdir in os.listdir(jpg_folder_path):\n",
    "    subdir_path = os.path.join(jpg_folder_path, subdir)\n",
    "    \n",
    "    \n",
    "    if os.path.isdir(subdir_path):\n",
    "        for file_name in os.listdir(subdir_path):\n",
    "            file_path = os.path.join(subdir_path, file_name)\n",
    "            \n",
    "            if file_path.endswith('.jpg') or file_path.endswith('.jpeg'): \n",
    "                img = Image.open(file_path)\n",
    "                images.append(img)\n",
    "                labels.append(subdir) \n",
    "\n"
   ]
  },
  {
   "cell_type": "code",
   "execution_count": 5,
   "metadata": {},
   "outputs": [
    {
     "name": "stdout",
     "output_type": "stream",
     "text": [
      "1339\n",
      "1339\n"
     ]
    }
   ],
   "source": [
    "print(len(images))  \n",
    "print(len(labels))  "
   ]
  },
  {
   "cell_type": "code",
   "execution_count": 6,
   "metadata": {},
   "outputs": [],
   "source": [
    "resized_images = [img.resize((128, 128)) for img in images]\n",
    "normalized_images = [np.array(img) / 255.0 for img in resized_images]\n",
    "\n",
    "\n",
    "datagen = ImageDataGenerator(\n",
    "    rotation_range=20,\n",
    "    width_shift_range=0.2,\n",
    "    height_shift_range=0.2,\n",
    "    horizontal_flip=True,\n",
    "    brightness_range=(0.8, 1.2)\n",
    ")\n",
    "\n",
    "augmented_images = []\n",
    "for img in normalized_images:\n",
    "    img = np.expand_dims(img, axis=0) \n",
    "    augmented_img = datagen.flow(img, batch_size=126)[0][0]\n",
    "    augmented_images.append(augmented_img)"
   ]
  },
  {
   "cell_type": "code",
   "execution_count": 7,
   "metadata": {},
   "outputs": [
    {
     "name": "stdout",
     "output_type": "stream",
     "text": [
      "Training folder: F:\\ARIK\\Foto Arik\\Dataset_acne_train\n",
      "Testing folder: F:\\ARIK\\Foto Arik\\Dataset_acne_test\n"
     ]
    }
   ],
   "source": [
    "train_folder = 'F:\\ARIK\\Foto Arik\\Dataset_acne_train'\n",
    "test_folder = 'F:\\ARIK\\Foto Arik\\Dataset_acne_test'\n",
    "\n",
    "os.makedirs(train_folder, exist_ok=True)\n",
    "os.makedirs(test_folder, exist_ok=True)\n",
    "\n",
    "for subfolder in os.listdir(jpg_folder_path):\n",
    "    subfolder_path = os.path.join(jpg_folder_path, subfolder)\n",
    "    train_subfolder_path = os.path.join(train_folder, subfolder)\n",
    "    test_subfolder_path = os.path.join(test_folder, subfolder)\n",
    "\n",
    "    if subfolder != \".DS_Store\": \n",
    "        \n",
    "        \n",
    "        os.makedirs(train_subfolder_path, exist_ok=True)\n",
    "        os.makedirs(test_subfolder_path, exist_ok=True)\n",
    "\n",
    "        image_files = [file for file in os.listdir(subfolder_path) if file.endswith('.jpg') or file.endswith('.jpeg')]\n",
    "        random.shuffle(image_files)\n",
    "\n",
    "        split_index = int(0.8 * len(image_files))\n",
    "        train_files = image_files[:split_index]\n",
    "        test_files = image_files[split_index:]\n",
    "\n",
    "        for train_file in train_files:\n",
    "            src_path = os.path.join(subfolder_path, train_file)\n",
    "            dst_path = os.path.join(train_subfolder_path, train_file)\n",
    "            if os.path.exists(src_path):\n",
    "                shutil.copy(src_path, dst_path)\n",
    "\n",
    "        for test_file in test_files:\n",
    "            src_path = os.path.join(subfolder_path, test_file)\n",
    "            dst_path = os.path.join(test_subfolder_path, test_file)\n",
    "            if os.path.exists(src_path):\n",
    "                shutil.copy(src_path, dst_path)\n",
    "\n",
    "print(\"Training folder:\", train_folder)\n",
    "print(\"Testing folder:\", test_folder)\n"
   ]
  },
  {
   "cell_type": "code",
   "execution_count": 8,
   "metadata": {},
   "outputs": [
    {
     "name": "stdout",
     "output_type": "stream",
     "text": [
      "Found 1339 files belonging to 4 classes.\n",
      "Class names: ['Level_1', 'Level_2', 'Level_3', 'Level_4']\n",
      "Number of classes: 4\n"
     ]
    }
   ],
   "source": [
    "dataset_folder = jpg_folder_path \n",
    "\n",
    "image_size = (128, 128)  \n",
    "batch_size = 126\n",
    "\n",
    "image_dataset = tf.keras.preprocessing.image_dataset_from_directory(\n",
    "    dataset_folder,\n",
    "    image_size=image_size,\n",
    "    batch_size=batch_size,\n",
    "    label_mode='categorical'  \n",
    ")\n",
    "\n",
    "class_names = image_dataset.class_names\n",
    "num_classes = len(class_names)\n",
    "print(\"Class names:\", class_names)\n",
    "print(\"Number of classes:\", num_classes)\n"
   ]
  },
  {
   "attachments": {},
   "cell_type": "markdown",
   "metadata": {},
   "source": [
    "## MODEL"
   ]
  },
  {
   "cell_type": "code",
   "execution_count": 9,
   "metadata": {},
   "outputs": [
    {
     "name": "stdout",
     "output_type": "stream",
     "text": [
      "Model: \"sequential\"\n",
      "_________________________________________________________________\n",
      " Layer (type)                Output Shape              Param #   \n",
      "=================================================================\n",
      " mobilenet_1.00_128 (Functio  (None, 4, 4, 1024)       3228864   \n",
      " nal)                                                            \n",
      "                                                                 \n",
      " global_average_pooling2d (G  (None, 1024)             0         \n",
      " lobalAveragePooling2D)                                          \n",
      "                                                                 \n",
      " dense (Dense)               (None, 4)                 4100      \n",
      "                                                                 \n",
      "=================================================================\n",
      "Total params: 3,232,964\n",
      "Trainable params: 3,211,076\n",
      "Non-trainable params: 21,888\n",
      "_________________________________________________________________\n"
     ]
    }
   ],
   "source": [
    "mobilenet = MobileNet(include_top=False, weights='imagenet', input_shape=(128, 128, 3))\n",
    "model = Sequential()\n",
    "model.add(mobilenet)\n",
    "model.add(GlobalAveragePooling2D())\n",
    "model.add(Dense(num_classes, activation='softmax'))\n",
    "model.compile(optimizer='adam', loss='categorical_crossentropy', metrics=['accuracy'])\n",
    "model.summary()"
   ]
  },
  {
   "cell_type": "code",
   "execution_count": 10,
   "metadata": {},
   "outputs": [
    {
     "name": "stdout",
     "output_type": "stream",
     "text": [
      "Found 1070 images belonging to 4 classes.\n",
      "Found 269 images belonging to 4 classes.\n"
     ]
    }
   ],
   "source": [
    "\n",
    "TRAINING_DIR = 'F:\\ARIK\\Foto Arik\\Dataset_acne_train'\n",
    "training_datagen = ImageDataGenerator(\n",
    "    rescale=1./255,\n",
    "    rotation_range=40,\n",
    "    width_shift_range=0.2,\n",
    "    height_shift_range=0.2,\n",
    "    shear_range=0.2,\n",
    "    zoom_range=0.2,\n",
    "    horizontal_flip=True,\n",
    "    fill_mode='nearest'\n",
    ")\n",
    "\n",
    "VALIDATION_DIR = 'F:\\ARIK\\Foto Arik\\Dataset_acne_test'\n",
    "validation_datagen = ImageDataGenerator(rescale=1./255)\n",
    "\n",
    "train_generator = training_datagen.flow_from_directory(\n",
    "    TRAINING_DIR,\n",
    "    target_size=(128, 128),\n",
    "    class_mode='categorical',\n",
    "    batch_size=126\n",
    ")\n",
    "\n",
    "validation_generator = validation_datagen.flow_from_directory(\n",
    "    VALIDATION_DIR,\n",
    "    target_size=(128, 128),\n",
    "    class_mode='categorical',\n",
    "    batch_size=126\n",
    ")\n"
   ]
  },
  {
   "cell_type": "code",
   "execution_count": 11,
   "metadata": {},
   "outputs": [
    {
     "name": "stderr",
     "output_type": "stream",
     "text": [
      "C:\\Users\\arikr\\AppData\\Local\\Packages\\PythonSoftwareFoundation.Python.3.11_qbz5n2kfra8p0\\LocalCache\\local-packages\\Python311\\site-packages\\keras\\optimizers\\legacy\\adam.py:117: UserWarning: The `lr` argument is deprecated, use `learning_rate` instead.\n",
      "  super().__init__(name, **kwargs)\n"
     ]
    },
    {
     "name": "stdout",
     "output_type": "stream",
     "text": [
      "Epoch 1/100\n",
      "8/8 [==============================] - 55s 6s/step - loss: 1.4465 - accuracy: 0.4206 - val_loss: 2.0596 - val_accuracy: 0.3214\n",
      "Epoch 2/100\n",
      "8/8 [==============================] - 43s 5s/step - loss: 0.8892 - accuracy: 0.6123 - val_loss: 2.4433 - val_accuracy: 0.3214\n",
      "Epoch 3/100\n",
      "8/8 [==============================] - 45s 6s/step - loss: 0.7864 - accuracy: 0.6600 - val_loss: 2.1659 - val_accuracy: 0.3611\n",
      "Epoch 4/100\n",
      "8/8 [==============================] - 43s 6s/step - loss: 0.7067 - accuracy: 0.6928 - val_loss: 1.9600 - val_accuracy: 0.3492\n",
      "Epoch 5/100\n",
      "8/8 [==============================] - 43s 5s/step - loss: 0.6357 - accuracy: 0.7129 - val_loss: 1.7651 - val_accuracy: 0.3452\n",
      "Epoch 6/100\n",
      "8/8 [==============================] - 46s 6s/step - loss: 0.5947 - accuracy: 0.7203 - val_loss: 1.6422 - val_accuracy: 0.3810\n",
      "Epoch 7/100\n",
      "8/8 [==============================] - 44s 5s/step - loss: 0.5535 - accuracy: 0.7585 - val_loss: 1.7929 - val_accuracy: 0.3730\n",
      "Epoch 8/100\n",
      "8/8 [==============================] - 44s 5s/step - loss: 0.5307 - accuracy: 0.7691 - val_loss: 1.5494 - val_accuracy: 0.4048\n",
      "Epoch 9/100\n",
      "8/8 [==============================] - 41s 5s/step - loss: 0.4667 - accuracy: 0.8093 - val_loss: 1.4622 - val_accuracy: 0.4048\n",
      "Epoch 10/100\n",
      "8/8 [==============================] - 41s 6s/step - loss: 0.4896 - accuracy: 0.7744 - val_loss: 1.3557 - val_accuracy: 0.4405\n",
      "Epoch 11/100\n",
      "8/8 [==============================] - 40s 5s/step - loss: 0.4663 - accuracy: 0.7934 - val_loss: 1.5160 - val_accuracy: 0.4563\n",
      "Epoch 12/100\n",
      "8/8 [==============================] - 45s 6s/step - loss: 0.4254 - accuracy: 0.8051 - val_loss: 1.4422 - val_accuracy: 0.4841\n",
      "Epoch 13/100\n",
      "8/8 [==============================] - 43s 5s/step - loss: 0.4347 - accuracy: 0.8146 - val_loss: 1.2543 - val_accuracy: 0.5357\n",
      "Epoch 14/100\n",
      "8/8 [==============================] - 43s 5s/step - loss: 0.4071 - accuracy: 0.8210 - val_loss: 1.2096 - val_accuracy: 0.5437\n",
      "Epoch 15/100\n",
      "8/8 [==============================] - 43s 5s/step - loss: 0.4050 - accuracy: 0.8231 - val_loss: 1.1956 - val_accuracy: 0.5476\n",
      "Epoch 16/100\n",
      "8/8 [==============================] - 43s 5s/step - loss: 0.3737 - accuracy: 0.8443 - val_loss: 1.2715 - val_accuracy: 0.5556\n",
      "Epoch 17/100\n",
      "8/8 [==============================] - 43s 5s/step - loss: 0.3806 - accuracy: 0.8517 - val_loss: 1.7535 - val_accuracy: 0.5040\n",
      "Epoch 18/100\n",
      "8/8 [==============================] - 42s 5s/step - loss: 0.3356 - accuracy: 0.8708 - val_loss: 1.2826 - val_accuracy: 0.5397\n",
      "Epoch 19/100\n",
      "8/8 [==============================] - 44s 5s/step - loss: 0.3585 - accuracy: 0.8532 - val_loss: 1.4017 - val_accuracy: 0.5476\n",
      "Epoch 20/100\n",
      "8/8 [==============================] - 42s 5s/step - loss: 0.3453 - accuracy: 0.8485 - val_loss: 1.2550 - val_accuracy: 0.5913\n",
      "Epoch 21/100\n",
      "8/8 [==============================] - 42s 5s/step - loss: 0.3085 - accuracy: 0.8856 - val_loss: 1.3100 - val_accuracy: 0.5754\n",
      "Epoch 22/100\n",
      "8/8 [==============================] - 42s 5s/step - loss: 0.3170 - accuracy: 0.8644 - val_loss: 1.1714 - val_accuracy: 0.5833\n",
      "Epoch 23/100\n",
      "8/8 [==============================] - 43s 5s/step - loss: 0.3167 - accuracy: 0.8740 - val_loss: 1.1414 - val_accuracy: 0.5754\n",
      "Epoch 24/100\n",
      "8/8 [==============================] - 41s 5s/step - loss: 0.3069 - accuracy: 0.8697 - val_loss: 0.9961 - val_accuracy: 0.6270\n",
      "Epoch 25/100\n",
      "8/8 [==============================] - 41s 5s/step - loss: 0.3030 - accuracy: 0.8697 - val_loss: 1.0821 - val_accuracy: 0.6587\n",
      "Epoch 26/100\n",
      "8/8 [==============================] - 41s 5s/step - loss: 0.2911 - accuracy: 0.8803 - val_loss: 1.4690 - val_accuracy: 0.6032\n",
      "Epoch 27/100\n",
      "8/8 [==============================] - 44s 5s/step - loss: 0.2749 - accuracy: 0.8849 - val_loss: 1.2122 - val_accuracy: 0.6270\n",
      "Epoch 28/100\n",
      "8/8 [==============================] - 44s 5s/step - loss: 0.2576 - accuracy: 0.9015 - val_loss: 0.9173 - val_accuracy: 0.6944\n",
      "Epoch 29/100\n",
      "8/8 [==============================] - 43s 6s/step - loss: 0.2646 - accuracy: 0.9068 - val_loss: 0.7855 - val_accuracy: 0.6944\n",
      "Epoch 30/100\n",
      "8/8 [==============================] - 43s 5s/step - loss: 0.2502 - accuracy: 0.9057 - val_loss: 0.9030 - val_accuracy: 0.6667\n",
      "Epoch 31/100\n",
      "8/8 [==============================] - 41s 5s/step - loss: 0.2443 - accuracy: 0.9047 - val_loss: 0.8926 - val_accuracy: 0.6587\n",
      "Epoch 32/100\n",
      "8/8 [==============================] - 41s 6s/step - loss: 0.2400 - accuracy: 0.9047 - val_loss: 0.7729 - val_accuracy: 0.6984\n",
      "Epoch 33/100\n",
      "8/8 [==============================] - 44s 5s/step - loss: 0.2255 - accuracy: 0.9121 - val_loss: 0.7606 - val_accuracy: 0.7024\n",
      "Epoch 34/100\n",
      "8/8 [==============================] - 43s 5s/step - loss: 0.2432 - accuracy: 0.9057 - val_loss: 0.6467 - val_accuracy: 0.7579\n",
      "Epoch 35/100\n",
      "8/8 [==============================] - 44s 5s/step - loss: 0.2233 - accuracy: 0.9184 - val_loss: 0.7121 - val_accuracy: 0.7302\n",
      "Epoch 36/100\n",
      "8/8 [==============================] - 44s 5s/step - loss: 0.2325 - accuracy: 0.9078 - val_loss: 0.6793 - val_accuracy: 0.7341\n",
      "Epoch 37/100\n",
      "8/8 [==============================] - 43s 5s/step - loss: 0.1827 - accuracy: 0.9407 - val_loss: 0.9201 - val_accuracy: 0.6984\n",
      "Epoch 38/100\n",
      "8/8 [==============================] - 43s 5s/step - loss: 0.2124 - accuracy: 0.9174 - val_loss: 0.8577 - val_accuracy: 0.7063\n",
      "Epoch 39/100\n",
      "8/8 [==============================] - 45s 6s/step - loss: 0.2250 - accuracy: 0.9057 - val_loss: 0.7965 - val_accuracy: 0.7222\n",
      "Epoch 40/100\n",
      "8/8 [==============================] - 44s 5s/step - loss: 0.1928 - accuracy: 0.9322 - val_loss: 0.7579 - val_accuracy: 0.7540\n",
      "Epoch 41/100\n",
      "8/8 [==============================] - 44s 5s/step - loss: 0.1781 - accuracy: 0.9322 - val_loss: 0.8380 - val_accuracy: 0.7262\n",
      "Epoch 42/100\n",
      "8/8 [==============================] - 44s 5s/step - loss: 0.2003 - accuracy: 0.9163 - val_loss: 0.8324 - val_accuracy: 0.7222\n",
      "Epoch 43/100\n",
      "8/8 [==============================] - 44s 5s/step - loss: 0.1670 - accuracy: 0.9428 - val_loss: 0.8547 - val_accuracy: 0.7222\n",
      "Epoch 44/100\n",
      "8/8 [==============================] - 44s 6s/step - loss: 0.1896 - accuracy: 0.9375 - val_loss: 0.7005 - val_accuracy: 0.7857\n",
      "Epoch 45/100\n",
      "8/8 [==============================] - 44s 5s/step - loss: 0.1887 - accuracy: 0.9227 - val_loss: 0.9541 - val_accuracy: 0.7460\n",
      "Epoch 46/100\n",
      "8/8 [==============================] - 44s 5s/step - loss: 0.1945 - accuracy: 0.9290 - val_loss: 0.6412 - val_accuracy: 0.7778\n",
      "Epoch 47/100\n",
      "8/8 [==============================] - 44s 5s/step - loss: 0.1894 - accuracy: 0.9290 - val_loss: 0.6457 - val_accuracy: 0.7659\n",
      "Epoch 48/100\n",
      "8/8 [==============================] - 43s 5s/step - loss: 0.1834 - accuracy: 0.9375 - val_loss: 0.7754 - val_accuracy: 0.7579\n",
      "Epoch 49/100\n",
      "8/8 [==============================] - 44s 5s/step - loss: 0.1618 - accuracy: 0.9375 - val_loss: 0.5989 - val_accuracy: 0.7897\n",
      "Epoch 50/100\n",
      "8/8 [==============================] - 43s 6s/step - loss: 0.1782 - accuracy: 0.9354 - val_loss: 0.6024 - val_accuracy: 0.7579\n",
      "Epoch 51/100\n",
      "8/8 [==============================] - 44s 6s/step - loss: 0.1449 - accuracy: 0.9492 - val_loss: 0.8295 - val_accuracy: 0.7421\n",
      "Epoch 52/100\n",
      "8/8 [==============================] - 44s 5s/step - loss: 0.1347 - accuracy: 0.9534 - val_loss: 0.7694 - val_accuracy: 0.7659\n",
      "Epoch 53/100\n",
      "8/8 [==============================] - 44s 5s/step - loss: 0.1652 - accuracy: 0.9311 - val_loss: 0.6260 - val_accuracy: 0.7817\n",
      "Epoch 54/100\n",
      "8/8 [==============================] - 44s 5s/step - loss: 0.1583 - accuracy: 0.9343 - val_loss: 0.6958 - val_accuracy: 0.7698\n",
      "Epoch 55/100\n",
      "8/8 [==============================] - 45s 5s/step - loss: 0.1294 - accuracy: 0.9597 - val_loss: 0.7723 - val_accuracy: 0.7738\n",
      "Epoch 56/100\n",
      "8/8 [==============================] - 44s 5s/step - loss: 0.1532 - accuracy: 0.9449 - val_loss: 0.6706 - val_accuracy: 0.7698\n",
      "Epoch 57/100\n",
      "8/8 [==============================] - 44s 5s/step - loss: 0.1595 - accuracy: 0.9481 - val_loss: 0.8105 - val_accuracy: 0.7619\n",
      "Epoch 58/100\n",
      "8/8 [==============================] - 45s 6s/step - loss: 0.1363 - accuracy: 0.9513 - val_loss: 0.6083 - val_accuracy: 0.7698\n",
      "Epoch 59/100\n",
      "8/8 [==============================] - 47s 6s/step - loss: 0.1234 - accuracy: 0.9613 - val_loss: 0.7026 - val_accuracy: 0.7659\n",
      "Epoch 60/100\n",
      "8/8 [==============================] - 44s 5s/step - loss: 0.1180 - accuracy: 0.9640 - val_loss: 0.7398 - val_accuracy: 0.7778\n",
      "Epoch 61/100\n",
      "8/8 [==============================] - 43s 5s/step - loss: 0.1259 - accuracy: 0.9534 - val_loss: 0.7699 - val_accuracy: 0.7698\n",
      "Epoch 62/100\n",
      "8/8 [==============================] - 44s 5s/step - loss: 0.1139 - accuracy: 0.9661 - val_loss: 0.8168 - val_accuracy: 0.7698\n",
      "Epoch 63/100\n",
      "8/8 [==============================] - 43s 5s/step - loss: 0.1103 - accuracy: 0.9619 - val_loss: 0.7000 - val_accuracy: 0.7659\n",
      "Epoch 64/100\n",
      "8/8 [==============================] - 43s 5s/step - loss: 0.1219 - accuracy: 0.9544 - val_loss: 1.0364 - val_accuracy: 0.7500\n",
      "Epoch 65/100\n",
      "8/8 [==============================] - 44s 5s/step - loss: 0.1240 - accuracy: 0.9587 - val_loss: 1.0320 - val_accuracy: 0.7500\n",
      "Epoch 66/100\n",
      "8/8 [==============================] - 44s 5s/step - loss: 0.1009 - accuracy: 0.9672 - val_loss: 0.8264 - val_accuracy: 0.7659\n",
      "Epoch 67/100\n",
      "8/8 [==============================] - 44s 5s/step - loss: 0.1240 - accuracy: 0.9544 - val_loss: 0.7671 - val_accuracy: 0.7817\n",
      "Epoch 68/100\n",
      "8/8 [==============================] - 46s 6s/step - loss: 0.0998 - accuracy: 0.9619 - val_loss: 1.0421 - val_accuracy: 0.7421\n",
      "Epoch 69/100\n",
      "8/8 [==============================] - 43s 6s/step - loss: 0.1198 - accuracy: 0.9587 - val_loss: 1.0617 - val_accuracy: 0.7421\n",
      "Epoch 70/100\n",
      "8/8 [==============================] - 44s 5s/step - loss: 0.1408 - accuracy: 0.9407 - val_loss: 0.7240 - val_accuracy: 0.7540\n",
      "Epoch 71/100\n",
      "8/8 [==============================] - 44s 5s/step - loss: 0.1051 - accuracy: 0.9608 - val_loss: 0.8548 - val_accuracy: 0.7698\n",
      "Epoch 72/100\n",
      "8/8 [==============================] - 44s 5s/step - loss: 0.1217 - accuracy: 0.9534 - val_loss: 0.5629 - val_accuracy: 0.7897\n",
      "Epoch 73/100\n",
      "8/8 [==============================] - 45s 5s/step - loss: 0.0948 - accuracy: 0.9640 - val_loss: 0.5976 - val_accuracy: 0.7897\n",
      "Epoch 74/100\n",
      "8/8 [==============================] - 43s 5s/step - loss: 0.1032 - accuracy: 0.9661 - val_loss: 0.6730 - val_accuracy: 0.7857\n",
      "Epoch 75/100\n",
      "8/8 [==============================] - 46s 6s/step - loss: 0.0823 - accuracy: 0.9742 - val_loss: 0.5932 - val_accuracy: 0.8016\n",
      "Epoch 76/100\n",
      "8/8 [==============================] - 43s 5s/step - loss: 0.1116 - accuracy: 0.9587 - val_loss: 0.6658 - val_accuracy: 0.7897\n",
      "Epoch 77/100\n",
      "8/8 [==============================] - 44s 5s/step - loss: 0.1014 - accuracy: 0.9682 - val_loss: 0.6452 - val_accuracy: 0.7817\n",
      "Epoch 78/100\n",
      "8/8 [==============================] - 44s 6s/step - loss: 0.0937 - accuracy: 0.9735 - val_loss: 0.6221 - val_accuracy: 0.7738\n",
      "Epoch 79/100\n",
      "8/8 [==============================] - 44s 5s/step - loss: 0.0874 - accuracy: 0.9672 - val_loss: 0.6397 - val_accuracy: 0.7778\n",
      "Epoch 80/100\n",
      "8/8 [==============================] - 45s 5s/step - loss: 0.0864 - accuracy: 0.9682 - val_loss: 0.8579 - val_accuracy: 0.7619\n",
      "Epoch 81/100\n",
      "8/8 [==============================] - 43s 5s/step - loss: 0.0943 - accuracy: 0.9672 - val_loss: 0.6825 - val_accuracy: 0.7579\n",
      "Epoch 82/100\n",
      "8/8 [==============================] - 43s 5s/step - loss: 0.0952 - accuracy: 0.9693 - val_loss: 0.6550 - val_accuracy: 0.7738\n",
      "Epoch 83/100\n",
      "8/8 [==============================] - 43s 5s/step - loss: 0.0858 - accuracy: 0.9682 - val_loss: 0.6906 - val_accuracy: 0.7698\n",
      "Epoch 84/100\n",
      "8/8 [==============================] - 45s 6s/step - loss: 0.0818 - accuracy: 0.9673 - val_loss: 0.7288 - val_accuracy: 0.7540\n",
      "Epoch 85/100\n",
      "8/8 [==============================] - 44s 6s/step - loss: 0.0909 - accuracy: 0.9735 - val_loss: 0.6584 - val_accuracy: 0.7698\n",
      "Epoch 86/100\n",
      "8/8 [==============================] - 43s 5s/step - loss: 0.0754 - accuracy: 0.9756 - val_loss: 0.6112 - val_accuracy: 0.7857\n",
      "Epoch 87/100\n",
      "8/8 [==============================] - 43s 5s/step - loss: 0.0784 - accuracy: 0.9735 - val_loss: 0.5565 - val_accuracy: 0.7659\n",
      "Epoch 88/100\n",
      "8/8 [==============================] - 42s 6s/step - loss: 0.0781 - accuracy: 0.9767 - val_loss: 0.6998 - val_accuracy: 0.7659\n",
      "Epoch 89/100\n",
      "8/8 [==============================] - 45s 6s/step - loss: 0.0838 - accuracy: 0.9714 - val_loss: 0.9187 - val_accuracy: 0.7540\n",
      "Epoch 90/100\n",
      "8/8 [==============================] - 46s 6s/step - loss: 0.0867 - accuracy: 0.9663 - val_loss: 0.7562 - val_accuracy: 0.7698\n",
      "Epoch 91/100\n",
      "8/8 [==============================] - 46s 6s/step - loss: 0.0933 - accuracy: 0.9683 - val_loss: 0.6143 - val_accuracy: 0.7976\n",
      "Epoch 92/100\n",
      "8/8 [==============================] - 44s 5s/step - loss: 0.0879 - accuracy: 0.9672 - val_loss: 1.0203 - val_accuracy: 0.7500\n",
      "Epoch 93/100\n",
      "8/8 [==============================] - 46s 6s/step - loss: 0.0801 - accuracy: 0.9712 - val_loss: 0.8132 - val_accuracy: 0.7857\n",
      "Epoch 94/100\n",
      "8/8 [==============================] - 43s 6s/step - loss: 0.0913 - accuracy: 0.9682 - val_loss: 0.6640 - val_accuracy: 0.7857\n",
      "Epoch 95/100\n",
      "8/8 [==============================] - 44s 5s/step - loss: 0.0815 - accuracy: 0.9735 - val_loss: 0.9173 - val_accuracy: 0.7579\n",
      "Epoch 96/100\n",
      "8/8 [==============================] - 43s 5s/step - loss: 0.0756 - accuracy: 0.9714 - val_loss: 0.8471 - val_accuracy: 0.7540\n",
      "Epoch 97/100\n",
      "8/8 [==============================] - 43s 5s/step - loss: 0.0661 - accuracy: 0.9799 - val_loss: 0.7903 - val_accuracy: 0.7659\n",
      "Epoch 98/100\n",
      "8/8 [==============================] - 43s 5s/step - loss: 0.0747 - accuracy: 0.9756 - val_loss: 0.8050 - val_accuracy: 0.7817\n",
      "Epoch 99/100\n",
      "8/8 [==============================] - 43s 5s/step - loss: 0.0615 - accuracy: 0.9788 - val_loss: 0.8674 - val_accuracy: 0.7698\n",
      "Epoch 100/100\n",
      "8/8 [==============================] - 47s 6s/step - loss: 0.0549 - accuracy: 0.9812 - val_loss: 0.6775 - val_accuracy: 0.7817\n"
     ]
    }
   ],
   "source": [
    "train_steps_per_epoch = train_generator.n // train_generator.batch_size\n",
    "model.compile(optimizer=Adam(lr=0.0001), loss='categorical_crossentropy', metrics=['accuracy'])\n",
    "history = model.fit(\n",
    "    train_generator,\n",
    "    steps_per_epoch=train_steps_per_epoch,\n",
    "    epochs=100,\n",
    "    validation_data=validation_generator,\n",
    "    validation_steps=val_steps_per_epoch\n",
    ")"
   ]
  },
  {
   "cell_type": "code",
   "execution_count": 12,
   "metadata": {},
   "outputs": [],
   "source": [
    "history_df = pd.DataFrame(history.history)\n",
    "history_df.to_csv('training_history.csv', index=False)"
   ]
  },
  {
   "cell_type": "code",
   "execution_count": 13,
   "metadata": {},
   "outputs": [
    {
     "name": "stdout",
     "output_type": "stream",
     "text": [
      "8/8 [==============================] - 19s 2s/step - loss: 0.0717 - accuracy: 0.9752\n",
      "Training Loss: 0.07171811163425446\n",
      "Training Accuracy: 0.9751983880996704\n"
     ]
    }
   ],
   "source": [
    "train_loss, train_accuracy = model.evaluate(train_generator, steps=train_steps_per_epoch)\n",
    "print(\"Training Loss:\", train_loss)\n",
    "print(\"Training Accuracy:\", train_accuracy)\n"
   ]
  },
  {
   "cell_type": "code",
   "execution_count": 14,
   "metadata": {},
   "outputs": [
    {
     "data": {
      "image/png": "[encoded data removed]",
      "text/plain": [
       "<Figure size 640x480 with 1 Axes>"
      ]
     },
     "metadata": {},
     "output_type": "display_data"
    },
    {
     "data": {
      "text/plain": [
       "<Figure size 640x480 with 0 Axes>"
      ]
     },
     "metadata": {},
     "output_type": "display_data"
    },
    {
     "data": {
      "image/png": "[encoded data removed]",
      "text/plain": [
       "<Figure size 640x480 with 1 Axes>"
      ]
     },
     "metadata": {},
     "output_type": "display_data"
    },
    {
     "data": {
      "text/plain": [
       "<Figure size 640x480 with 0 Axes>"
      ]
     },
     "metadata": {},
     "output_type": "display_data"
    }
   ],
   "source": [
    "acc = history.history['accuracy']\n",
    "loss = history.history['loss']\n",
    "val_acc = history.history['val_accuracy']\n",
    "val_loss = history.history['val_loss']\n",
    "epochs = range(len(acc))\n",
    "plt.plot(epochs, acc, 'b', label = 'Training accuracy')\n",
    "plt.plot(epochs, val_acc, 'r', label = 'Validation accuracy')\n",
    "plt.legend(loc=0)\n",
    "plt.figure()\n",
    "\n",
    "plt.show()\n",
    "\n",
    "plt.plot(epochs, loss, 'b', label = 'Training loss')\n",
    "plt.plot(epochs, val_loss, 'r', label = 'Validation loss')\n",
    "plt.legend(loc=0)\n",
    "plt.figure()\n",
    "\n",
    "plt.show()"
   ]
  },
  {
   "cell_type": "code",
   "execution_count": 17,
   "metadata": {},
   "outputs": [
    {
     "name": "stdout",
     "output_type": "stream",
     "text": [
      "1/1 [==============================] - 1s 575ms/step\n",
      "Predicted class: 1\n"
     ]
    }
   ],
   "source": [
    "image_path = 'F:\\ARIK\\Foto Arik\\Dataset_acne_test\\Level_2\\level2_(9).jpg'\n",
    "image = tf.keras.preprocessing.image.load_img(image_path, target_size=(128, 128, 3))\n",
    "image = tf.keras.preprocessing.image.img_to_array(image)\n",
    "image = image / 255.0 \n",
    "image = np.expand_dims(image, axis=0)\n",
    "prediction = model.predict(image)\n",
    "predicted_class = np.argmax(prediction)\n",
    "print(\"Predicted class:\", predicted_class)\n"
   ]
  },
  {
   "cell_type": "code",
   "execution_count": 21,
   "metadata": {},
   "outputs": [
    {
     "name": "stdout",
     "output_type": "stream",
     "text": [
      "[0 0 0 0 0 0 0 0 0 0 0 0 0 0 0 0 0 0 0 0 0 0 0 0 0 0 0 0 0 0 0 0 0 0 0 0 0\n",
      " 0 0 0 0 0 0 0 0 0 0 0 0 0 0 0 0 0 0 0 0 0 0 0 0 0 0 0 0 0 0 0 0 0 0 0 0 0\n",
      " 0 0 0 0 1 1 1 1 1 1 1 1 1 1 1 1 1 1 1 1 1 1 1 1 1 1 1 1 1 1 1 1 1 1 1 1 1\n",
      " 1 1 1 1 1 1 1 1 1 1 1 1 1 1 1 1 1 1 1 1 1 1 1 1 1 1 1 1 1 1 1 1 1 1 1 1 1\n",
      " 1 1 1 1 1 2 2 2 2 2 2 2 2 2 2 2 2 2 2 2 2 2 2 2 2 2 2 2 2 2 2 2 2 2 2 2 2\n",
      " 2 2 2 2 2 2 2 2 2 2 2 2 2 2 2 2 2 2 3 3 3 3 3 3 3 3 3 3 3 3 3 3 3 3 3 3 3\n",
      " 3 3 3 3 3 3 3 3 3 3 3 3 3 3 3 3 3 3 3 3 3 3 3 3 3 3 3 3 3 3 3 3 3 3 3 3 3\n",
      " 3 3 3 3 3 3 3 3 3 3]\n"
     ]
    },
    {
     "name": "stderr",
     "output_type": "stream",
     "text": [
      "C:\\Users\\arikr\\AppData\\Local\\Temp\\ipykernel_5112\\1592910705.py:4: UserWarning: `Model.predict_generator` is deprecated and will be removed in a future version. Please use `Model.predict`, which supports generators.\n",
      "  Y_pred = model.predict_generator(validation_generator, num_test_images)\n"
     ]
    },
    {
     "name": "stdout",
     "output_type": "stream",
     "text": [
      "WARNING:tensorflow:Your input ran out of data; interrupting training. Make sure that your dataset or generator can generate at least `steps_per_epoch * epochs` batches (in this case, 1069 batches). You may need to use the repeat() function when building your dataset.\n",
      "Confusion Matrix\n",
      "[[37 12 11 18]\n",
      " [30  8 16 21]\n",
      " [19  7 10 14]\n",
      " [28 18 10 10]]\n",
      "\n",
      "Classification Report\n",
      "              precision    recall  f1-score   support\n",
      "\n",
      "     Level_1       0.32      0.47      0.39        78\n",
      "     Level_2       0.18      0.11      0.13        75\n",
      "     Level_3       0.21      0.20      0.21        50\n",
      "     Level_4       0.16      0.15      0.16        66\n",
      "\n",
      "    accuracy                           0.24       269\n",
      "   macro avg       0.22      0.23      0.22       269\n",
      "weighted avg       0.22      0.24      0.23       269\n",
      "\n"
     ]
    }
   ],
   "source": [
    "print(validation_generator.classes)\n",
    "num_test_images = 1069\n",
    "Y_pred = model.predict_generator(validation_generator, num_test_images)\n",
    "y_pred = np.argmax(Y_pred, axis=1)\n",
    "print('Confusion Matrix')\n",
    "print(confusion_matrix(validation_generator.classes, y_pred))\n",
    "print('\\nClassification Report')\n",
    "target_names = ['Level_1', 'Level_2', 'Level_3', 'Level_4']\n",
    "print(classification_report(validation_generator.classes, y_pred, target_names=class_names))\n"
   ]
  },
  {
   "cell_type": "code",
   "execution_count": 23,
   "metadata": {},
   "outputs": [],
   "source": [
    "model.save(\"acnelevel.h5\")"
   ]
  }
 ],
 "metadata": {
  "kernelspec": {
   "display_name": "Python 3",
   "language": "python",
   "name": "python3"
  },
  "language_info": {
   "codemirror_mode": {
    "name": "ipython",
    "version": 3
   },
   "file_extension": ".py",
   "mimetype": "text/x-python",
   "name": "python",
   "nbconvert_exporter": "python",
   "pygments_lexer": "ipython3",
   "version": "3.11.4"
  },
  "orig_nbformat": 4
 },
 "nbformat": 4,
 "nbformat_minor": 2
}
